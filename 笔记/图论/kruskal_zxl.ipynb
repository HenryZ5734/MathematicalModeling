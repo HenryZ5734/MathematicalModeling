{
 "cells": [
  {
   "cell_type": "code",
   "execution_count": 19,
   "id": "b7165ade",
   "metadata": {},
   "outputs": [
    {
     "name": "stdout",
     "output_type": "stream",
     "text": [
      "9\n"
     ]
    }
   ],
   "source": [
    "\n",
    "\n",
    "#最小生成树kruskal解法：适合稀疏图\n",
    "\n",
    "from typing import List\n",
    "import numpy as np\n",
    "\n",
    "class MSTprob:\n",
    "    def __init__(self,n,m,edge:List[List[int]]):\n",
    "        self.n=n\n",
    "        self.m=m\n",
    "        self.edge=edge\n",
    "        self.dad=np.arange(n+1)#初始化所有节点的父亲\n",
    "        self.edge=sorted(edge,key=lambda x:x[2])#按边权对边进行排序\n",
    "    def findn(self,x:int)->int:\n",
    "        if (self.dad[x]==x) :\n",
    "            return x\n",
    "        else :\n",
    "            self.dad[x]=self.findn(self.dad[x])\n",
    "            return self.dad[x]\n",
    "    def solve(self)->int:\n",
    "        summ=0\n",
    "        cnt=0\n",
    "        for e in self.edge:#遍历排好序的边\n",
    "            if self.findn(e[0])!=self.findn(e[1]):#若处于不同的连通块\n",
    "                summ+=e[2]\n",
    "                cnt+=1\n",
    "                #加入到同一连通块，用并查集实现\n",
    "                if self.findn(e[0])<self.findn(e[1]):\n",
    "                    self.dad[self.findn(e[1])]=self.findn(e[0])\n",
    "                else:\n",
    "                    self.dad[self.findn(e[0])]=self.findn(e[1])\n",
    "        if cnt==self.n-1:\n",
    "            return summ\n",
    "        else :\n",
    "            return 10000000\n",
    "\n",
    "edge=[[1,2,4],[1,3,2],[1,4,3],[2,3,4],[3,4,3]]\n",
    "n=4\n",
    "m=5\n",
    "prob=MSTprob(n,m,edge)\n",
    "print(prob.solve())\n",
    "\n",
    "#测试\n",
    "# n, m = map(int, input().split())\n",
    "# edge=[]\n",
    "# for i in range(m):\n",
    "#     edge.append(list(map(int, input().split())))\n",
    "# prob=MSTprob(n,m,edge)\n",
    "# ans=prob.solve()\n",
    "# if ans==10000000:\n",
    "#     print(\"orz\")\n",
    "# else:\n",
    "#     print(ans)\n",
    "\n",
    "\n",
    "    \n",
    "        \n",
    "     "
   ]
  },
  {
   "cell_type": "code",
   "execution_count": null,
   "id": "50800cf9",
   "metadata": {},
   "outputs": [],
   "source": []
  }
 ],
 "metadata": {
  "kernelspec": {
   "display_name": "miniconda",
   "language": "python",
   "name": "miniconda"
  },
  "language_info": {
   "codemirror_mode": {
    "name": "ipython",
    "version": 3
   },
   "file_extension": ".py",
   "mimetype": "text/x-python",
   "name": "python",
   "nbconvert_exporter": "python",
   "pygments_lexer": "ipython3",
   "version": "3.9.7"
  }
 },
 "nbformat": 4,
 "nbformat_minor": 5
}

{
 "cells": [
  {
   "cell_type": "code",
   "execution_count": 5,
   "id": "480c02a9",
   "metadata": {},
   "outputs": [
    {
     "name": "stdout",
     "output_type": "stream",
     "text": [
      "4 5 \n",
      "1 2 2\n",
      "1 3 2\n",
      "1 4 3\n",
      "2 3 4\n",
      "3 4 3\n",
      "7\n"
     ]
    }
   ],
   "source": [
    "\n",
    "\n",
    "#最小生成树prim解法：适合稠密图\n",
    "\n",
    "from typing import List\n",
    "import numpy as np\n",
    "import heapq\n",
    "class MSTprob:\n",
    "    #to为邻接表，to[i]由（与i邻接的点，边的长度）这样的元祖构成\n",
    "    def __init__(self,n,m,to:List[List[int]]):\n",
    "        self.n=n\n",
    "        self.m=m\n",
    "        self.to=to\n",
    "        self.state=np.zeros(n+1)#state表示点是否在连通块中\n",
    "    def solve(self)->int:\n",
    "    #将一个点加入连通块中\n",
    "        cnt=0#cnt记录当前在连通块中的节点数\n",
    "        ans=0#ans记录边权和\n",
    "        q=[(0,1)]\n",
    "        while (q):\n",
    "            a,b=heapq.heappop(q)\n",
    "            if self.state[b]==1:#若节点已经在连通块中，不做操作\n",
    "                continue\n",
    "            ans+=a\n",
    "            self.state[b]=1\n",
    "            cnt+=1\n",
    "            if cnt==self.n:#若连通块中已经拥有所有的点，结束\n",
    "                break\n",
    "            for x,y in to[b]:\n",
    "                if self.state[x]==0:\n",
    "                    heapq.heappush(q,(y,x))\n",
    "            \n",
    "                    \n",
    "        if cnt==self.n:\n",
    "            return ans\n",
    "        else :\n",
    "            return 10000000\n",
    "\n",
    "\n",
    "#测试\n",
    "n, m = map(int, input().split())\n",
    "to=[]\n",
    "for i in range(n+1):\n",
    "    to.append([])\n",
    "for i in range(m):\n",
    "    #构造临界表\n",
    "    u,v,w=(map(int, input().split()))\n",
    "    to[u].append((v,w))\n",
    "    to[v].append((u,w))\n",
    "    \n",
    "prob=MSTprob(n,m,to)\n",
    "ans=prob.solve()\n",
    "if ans==10000000:\n",
    "    print(\"orz\")\n",
    "else:\n",
    "    print(ans)\n",
    "\n",
    "\n",
    "    \n",
    "        \n",
    "     "
   ]
  }
 ],
 "metadata": {
  "kernelspec": {
   "display_name": "miniconda",
   "language": "python",
   "name": "miniconda"
  },
  "language_info": {
   "codemirror_mode": {
    "name": "ipython",
    "version": 3
   },
   "file_extension": ".py",
   "mimetype": "text/x-python",
   "name": "python",
   "nbconvert_exporter": "python",
   "pygments_lexer": "ipython3",
   "version": "3.9.7"
  }
 },
 "nbformat": 4,
 "nbformat_minor": 5
}

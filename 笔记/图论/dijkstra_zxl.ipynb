{
 "cells": [
  {
   "cell_type": "code",
   "execution_count": 21,
   "id": "315b0e02",
   "metadata": {},
   "outputs": [
    {
     "name": "stdout",
     "output_type": "stream",
     "text": [
      "0path: 0\n",
      "1path: 0->1\n",
      "2path: 0->2\n",
      "3path: 0->2->3\n",
      "4path: 0->2->4\n",
      "5path: 0->2->3->5\n",
      "[0. 2. 2. 4. 4. 6.]\n"
     ]
    }
   ],
   "source": [
    "from typing import List\n",
    "import numpy as np\n",
    "import heapq\n",
    "def dij(to:List[List[int]],n:int,k:int)->np.ndarray:\n",
    "    #to为邻接表，to[i]由（与i邻接的点，边的长度）这样的元祖构成\n",
    "    #n为点的个数,用0至n-1表示，k为起点\n",
    "    ans=np.ones(n)*np.inf#ans初始化,ans[i]表示起点到i的最短路长度\n",
    "    lst=np.zeros(n)\n",
    "    lst[k]=k\n",
    "    q=[(0,k)]#q为队列，由(到起点的距离，点)这样的元祖构成\n",
    "    while (q):\n",
    "        t,x=heapq.heappop(q)#弹出队列中到起点距离最小的元祖\n",
    "        if ans[x]>=t:#如果该距离小于ans数组中记录的距离，不做处理\n",
    "            ans[x]=t#更新ans\n",
    "            for a,b in to[x]:#基于x对其邻接点进行更新\n",
    "                if (ans[x]+b<ans[a]):\n",
    "                    lst[a]=x\n",
    "                    ans[a]=ans[x]+b\n",
    "                    heapq.heappush(q,(ans[a],a))\n",
    "    #打印路径\n",
    "    for i in range(n):\n",
    "        if (ans[i]==np.inf):\n",
    "            print(i,\":no path\")\n",
    "        else:\n",
    "            path=[str(int(i))]\n",
    "            now=i\n",
    "            while now!=k:\n",
    "                now=lst[int(now)]\n",
    "                path.append(str(int(now)) )\n",
    "            path.reverse()\n",
    "            print(str(i)+\"path:\",'->'.join(path))  \n",
    "        \n",
    "    return ans   \n",
    "n=6\n",
    "k=0\n",
    "to=[[[1,2],[2,2]],[[4,4],[3,3]],[[4,2],[3,2]],[[5,2]],[[5,2]],[]]\n",
    "print(dij(to,n,k))"
   ]
  },
  {
   "cell_type": "code",
   "execution_count": null,
   "id": "55b31abf",
   "metadata": {},
   "outputs": [],
   "source": []
  }
 ],
 "metadata": {
  "kernelspec": {
   "display_name": "miniconda",
   "language": "python",
   "name": "miniconda"
  },
  "language_info": {
   "codemirror_mode": {
    "name": "ipython",
    "version": 3
   },
   "file_extension": ".py",
   "mimetype": "text/x-python",
   "name": "python",
   "nbconvert_exporter": "python",
   "pygments_lexer": "ipython3",
   "version": "3.9.7"
  }
 },
 "nbformat": 4,
 "nbformat_minor": 5
}

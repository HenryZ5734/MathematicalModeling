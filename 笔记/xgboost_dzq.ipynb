{
 "cells": [
  {
   "cell_type": "code",
   "execution_count": 20,
   "id": "0d9e3bef",
   "metadata": {},
   "outputs": [],
   "source": [
    "import pandas as pd # 数据科学计算工具\n",
    "import numpy as np # 数值计算工具\n",
    "import matplotlib.pyplot as plt # 可视化\n",
    "import seaborn as sns # matplotlib的高级API\n",
    "from sklearn.model_selection import StratifiedKFold #交叉验证\n",
    "from sklearn.model_selection import GridSearchCV #网格搜索\n",
    "from sklearn.model_selection import train_test_split #将数据集分开成训练集和测试集\n",
    "import xgboost as xgb\n",
    "from sklearn.model_selection import GridSearchCV\n",
    "from sklearn.metrics import accuracy_score\n",
    "from xgboost import plot_importance\n",
    "##地址自己填\n",
    "train = pd.read_csv(\"地址\", dtype={\"Age\": np.float64},)"
   ]
  },
  {
   "cell_type": "code",
   "execution_count": 25,
   "id": "e02e5b3b",
   "metadata": {},
   "outputs": [],
   "source": [
    "def harmonize_data(titanic):\n",
    "    # 填充空数据 和 把string数据转成integer表示\n",
    "    # 对于年龄字段发生缺失，我们用所有年龄的均值替代\n",
    "    titanic[\"Age\"] = titanic[\"Age\"].fillna(titanic[\"Age\"].median())\n",
    "#     titanic = titanic.dropna(how='any')\n",
    "    titanic[\"male\"]   = 0\n",
    "    titanic[\"famale\"] = 0\n",
    "    #性别one-hot化\n",
    "    titanic.loc[titanic[\"Sex\"] == \"male\", \"male\"] = 1\n",
    "    titanic.loc[titanic[\"Sex\"] == \"female\", \"famale\"] = 1\n",
    "\n",
    "    titanic[\"Embarked\"] = titanic[\"Embarked\"].fillna(\"S\")\n",
    "    titanic[\"S\"]   = 0\n",
    "    titanic[\"C\"]   = 0\n",
    "    titanic[\"Q\"]   = 0\n",
    "    titanic.loc[titanic[\"Embarked\"] == \"S\", \"S\"] = 1\n",
    "    titanic.loc[titanic[\"Embarked\"] == \"C\", \"C\"] = 1\n",
    "    titanic.loc[titanic[\"Embarked\"] == \"Q\", \"Q\"] = 1\n",
    "\n",
    "    titanic[\"Fare\"] = titanic[\"Fare\"].fillna(titanic[\"Fare\"].median())\n",
    "\n",
    "    return titanic\n",
    "\n",
    "train_data = harmonize_data(train)"
   ]
  },
  {
   "cell_type": "code",
   "execution_count": 26,
   "id": "0192bd4b",
   "metadata": {},
   "outputs": [
    {
     "name": "stdout",
     "output_type": "stream",
     "text": [
      "[16:51:15] WARNING: C:/Users/Administrator/workspace/xgboost-win64_release_1.6.0/src/learner.cc:627: \n",
      "Parameters: { \"silent\" } might not be used.\n",
      "\n",
      "  This could be a false alarm, with some parameters getting used by language bindings but\n",
      "  then being mistakenly passed down to XGBoost core, or some parameter actually being used\n",
      "  but getting flagged wrongly here. Please open an issue if you find any such cases.\n",
      "\n",
      "\n",
      "accuarcy: 75.93%\n"
     ]
    },
    {
     "data": {
      "image/png": "[encoded data removed]",
      "text/plain": [
       "<Figure size 432x288 with 1 Axes>"
      ]
     },
     "metadata": {
      "needs_background": "light"
     },
     "output_type": "display_data"
    }
   ],
   "source": [
    "# 列出对生存结果有影响的字段\n",
    "predictors = [\"Pclass\", \"famale\",\"male\", \"Age\", \"SibSp\", \"Parch\", \"Fare\", \"S\", \"C\", \"Q\"]\n",
    "seed = 1 #重现随机生成的训练\n",
    "test_size = 0.33 #33%测试，67%训练\n",
    "X_train, X_test, Y_train, Y_test = train_test_split(train_data[predictors], train_data['Survived'], test_size=test_size, random_state=seed)\n",
    "# 算法参数\n",
    "params = {\n",
    "    'booster': 'gbtree',\n",
    "    'objective': 'multi:softmax',\n",
    "    'num_class': 3,\n",
    "    'gamma': 0.1,\n",
    "    'max_depth': 6,\n",
    "    'lambda': 2,\n",
    "    'subsample': 0.7,\n",
    "    'colsample_bytree': 0.75,\n",
    "    'min_child_weight': 3,\n",
    "    'silent': 0,\n",
    "    'eta': 0.1,\n",
    "    'seed': 1,\n",
    "    'nthread': 4,\n",
    "}\n",
    "# plst = params.items()\n",
    "dtrain = xgb.DMatrix(X_train, Y_train) # 生成数据集格式\n",
    "num_rounds = 500\n",
    "model = xgb.train(params, dtrain, num_rounds) # xgboost模型训练\n",
    "\n",
    "# 对测试集进行预测\n",
    "dtest = xgb.DMatrix(X_test)\n",
    "y_pred = model.predict(dtest)\n",
    "\n",
    "# 计算准确率\n",
    "accuracy = accuracy_score(Y_test,y_pred)\n",
    "print(\"accuarcy: %.2f%%\" % (accuracy*100.0))\n",
    "\n",
    "# 显示重要特征\n",
    "plot_importance(model)\n",
    "plt.show()"
   ]
  },
  {
   "cell_type": "code",
   "execution_count": null,
   "id": "de3133b9",
   "metadata": {},
   "outputs": [],
   "source": []
  }
 ],
 "metadata": {
  "kernelspec": {
   "display_name": "Python 3 (ipykernel)",
   "language": "python",
   "name": "python3"
  },
  "language_info": {
   "codemirror_mode": {
    "name": "ipython",
    "version": 3
   },
   "file_extension": ".py",
   "mimetype": "text/x-python",
   "name": "python",
   "nbconvert_exporter": "python",
   "pygments_lexer": "ipython3",
   "version": "3.9.12"
  }
 },
 "nbformat": 4,
 "nbformat_minor": 5
}

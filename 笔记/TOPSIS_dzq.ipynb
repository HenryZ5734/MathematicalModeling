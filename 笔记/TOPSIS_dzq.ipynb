{
 "cells": [
  {
   "cell_type": "code",
   "execution_count": 8,
   "id": "5c29f3df",
   "metadata": {},
   "outputs": [],
   "source": [
    "import numpy as np\n",
    "import pandas as pd\n",
    "import math "
   ]
  },
  {
   "cell_type": "code",
   "execution_count": 2,
   "id": "0760683f",
   "metadata": {},
   "outputs": [],
   "source": [
    "\n",
    "##三种指标正向化方式\n",
    "def MintoMax(X,nVar,mVar):             #极小变极大\n",
    "    Y = np.zeros((nVar,mVar)) \n",
    "    for j in range(mVar):\n",
    "        flag = 1\n",
    "        maxnum = X[0][j]\n",
    "        for i in range(nVar):\n",
    "            if X[i][j] > maxnum:\n",
    "                maxnum = X[i][j]\n",
    "            if X[i][j] < 0:\n",
    "                flag = 0\n",
    "        if flag == 0:\n",
    "            for i in range(nVar):\n",
    "                Y[i][j] = maxnum-X[i][j]\n",
    "        else:\n",
    "            for i in range(nVar):\n",
    "                Y[i][j] = 1/X[i][j]\n",
    "    return Y\n",
    "\n",
    "def MidtoMax(X,nVar,mVar,bestMid):       #中间变极大\n",
    "    Y = np.zeros((nVar,mVar)) \n",
    "    for j in range(mVar):\n",
    "        maxabs = abs(X[0][j]-bestMid[j])\n",
    "        for i in range(nVar):\n",
    "            if maxabs < abs(X[i]-bestMid[j]):\n",
    "                maxabs = abs(X[i][j]-bestMid[j])\n",
    "        for i in range(nVar):\n",
    "            Y[i][j] = 1 - abs(X[i][j]-bestMid[j])/maxabs\n",
    "    return Y\n",
    "\n",
    "def RantoMax(X,nVar,a,b):           #区间变极大\n",
    "    Y = np.zeros((nVar,mVar))\n",
    "    for j in range(mVar):\n",
    "        minX = X[0][j]\n",
    "        maxX = X[0][j]\n",
    "        for i in range(nVar):\n",
    "            if(X[i][j] > maxX):\n",
    "                maxX = X[i][j]\n",
    "            if(X[i][j] < minX):\n",
    "                minX = X[i][j]\n",
    "        M = max(a[j]-minX,maxX-b[j])\n",
    "        for i in range(numVar):\n",
    "            if X[i][j] < a[j] :\n",
    "                Y[i][j] = 1- (a[j]-X[i][j])/M\n",
    "            elif X[i][j] > b[j] :\n",
    "                Y[i][j] = 1- (X[i][j]-b[j])/M\n",
    "            else : Y[i][j] = 1\n",
    "    return Y"
   ]
  },
  {
   "cell_type": "code",
   "execution_count": 9,
   "id": "5fad552a",
   "metadata": {},
   "outputs": [],
   "source": [
    "##标准化处理\n",
    "def Standard(X,nVar,mVar):\n",
    "    Z = np.zeros((nVar,mVar)) \n",
    "    for j in range(mVar):\n",
    "        sumX = 0.0\n",
    "        for i in range(nVar):\n",
    "            sumX += X[i][j]*X[i][j]\n",
    "        for i in range(nVar):\n",
    "            Z[i][j] = X[i][j]/math.sqrt(sumX)\n",
    "    return Z"
   ]
  },
  {
   "cell_type": "code",
   "execution_count": 11,
   "id": "8b2ec316",
   "metadata": {},
   "outputs": [],
   "source": [
    "def getMaxMin(Z,nVar,mVar):\n",
    "    maxZ = np.zeros(mVar)\n",
    "    minZ = np.zeros(mVar)\n",
    "    for j in range(mVar):\n",
    "        minZ[j] = Z[0][j]\n",
    "        maxZ[j] = Z[0][j]\n",
    "        for i in range(nVar):\n",
    "            if minZ[j] > Z[i][j]:\n",
    "                minZ[j] = Z[i][j]\n",
    "            if maxZ[j] < Z[i][j]:\n",
    "                maxZ[j] = Z[i][j]\n",
    "    return maxZ,minZ"
   ]
  },
  {
   "cell_type": "code",
   "execution_count": 16,
   "id": "367538ca",
   "metadata": {},
   "outputs": [],
   "source": [
    "def getPoint(Z,maxZ,minZ,nVar,mVar):\n",
    "    point = np.zeros(nVar)\n",
    "    for i in range(nVar):\n",
    "        d0 = 0.0\n",
    "        d1 = 0.0\n",
    "        for j in range(mVar):\n",
    "            d0 += (maxZ[j]-Z[i][j])*(maxZ[j]-Z[i][j])\n",
    "            d1 += (minZ[j]-Z[i][j])*(minZ[j]-Z[i][j])\n",
    "        point[i] = d1/(d0+d1) \n",
    "    return point"
   ]
  },
  {
   "cell_type": "code",
   "execution_count": 17,
   "id": "ebe3e3fa",
   "metadata": {},
   "outputs": [],
   "source": [
    "def TOPSIS(X,nVar,mVar):\n",
    "#     Y = MintoMax(X,nVar,mVar)\n",
    "    Z = Standard(X,nVar,mVar)\n",
    "    maxZ,minZ = getMaxMin(Z,nVar,mVar)\n",
    "    point = getPoint(Z,maxZ,minZ,nVar,mVar)\n",
    "    return point"
   ]
  },
  {
   "cell_type": "code",
   "execution_count": 27,
   "id": "5f3b6645",
   "metadata": {},
   "outputs": [
    {
     "data": {
      "text/plain": [
       "array([0.54248366, 0.45751634])"
      ]
     },
     "execution_count": 27,
     "metadata": {},
     "output_type": "execute_result"
    }
   ],
   "source": [
    "X = np.array([[0,2,1,2,3],\n",
    "              [1,1,0,3,2]])\n",
    "TOPSIS(X,2,5)"
   ]
  },
  {
   "cell_type": "code",
   "execution_count": null,
   "id": "621994e2",
   "metadata": {},
   "outputs": [],
   "source": []
  }
 ],
 "metadata": {
  "kernelspec": {
   "display_name": "Python 3 (ipykernel)",
   "language": "python",
   "name": "python3"
  },
  "language_info": {
   "codemirror_mode": {
    "name": "ipython",
    "version": 3
   },
   "file_extension": ".py",
   "mimetype": "text/x-python",
   "name": "python",
   "nbconvert_exporter": "python",
   "pygments_lexer": "ipython3",
   "version": "3.9.12"
  }
 },
 "nbformat": 4,
 "nbformat_minor": 5
}

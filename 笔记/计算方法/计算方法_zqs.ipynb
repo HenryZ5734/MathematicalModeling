{
 "cells": [
  {
   "cell_type": "markdown",
   "metadata": {},
   "source": [
    "## 计算方法\n",
    "### Author：Henry   Time：2022/08/05\n",
    "\n",
    "> 拉格朗日插值：利用给定的n个离散点构造拉格朗日插值函数 $P_{n}(x)$ 去逼近目标函数 $f(x)$\n",
    "\n",
    "> 龙贝格积分：通过增加外推次数和二分次数近似求解定积分\n",
    "\n",
    "> 牛顿迭代法：通过迭代求解非线性方程的根\n",
    "\n",
    "> 高斯列选主元消去法：求解方程组\n"
   ]
  }
 ],
 "metadata": {
  "kernelspec": {
   "display_name": "Python 3.9.7 ('base')",
   "language": "python",
   "name": "python3"
  },
  "language_info": {
   "name": "python",
   "version": "3.9.7"
  },
  "orig_nbformat": 4,
  "vscode": {
   "interpreter": {
    "hash": "49cb93f377a7abe7414b7b0f21fb3017538004a126cf690fb524202736b7fb92"
   }
  }
 },
 "nbformat": 4,
 "nbformat_minor": 2
}
